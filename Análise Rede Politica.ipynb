{
 "cells": [
  {
   "cell_type": "code",
   "execution_count": 1,
   "metadata": {},
   "outputs": [],
   "source": [
    "import pandas as pd\n",
    "import networkx as nx\n",
    "import matplotlib.pyplot as plt"
   ]
  },
  {
   "cell_type": "code",
   "execution_count": 2,
   "metadata": {},
   "outputs": [],
   "source": [
    "PATH_SOCCER = 'Rede Politica/'\n",
    "PATH_USERS_SUSPENDED = 'usuarios suspensos politica/'"
   ]
  },
  {
   "cell_type": "code",
   "execution_count": 3,
   "metadata": {},
   "outputs": [],
   "source": [
    "# load tweets summary\n",
    "dicio_trad = {}\n",
    "with open(PATH_SOCCER+'/traducao_retweets_politica','r') as arq_reader:\n",
    "    for lines in arq_reader:\n",
    "        node_name,node_id = lines.strip().split(\":\")\n",
    "        dicio_trad[node_name] = node_id\n",
    "    \n",
    "#load tweets\n",
    "        "
   ]
  },
  {
   "cell_type": "code",
   "execution_count": 4,
   "metadata": {},
   "outputs": [],
   "source": [
    "# load users list\n",
    "def load_users(filename):\n",
    "    users_list = []\n",
    "    with open(PATH_USERS_SUSPENDED+filename,'r') as arq_reader:\n",
    "        users_list = [line.strip() for line in arq_reader]\n",
    "    return users_list"
   ]
  },
  {
   "cell_type": "code",
   "execution_count": 5,
   "metadata": {},
   "outputs": [],
   "source": [
    "# load users suspended\n",
    "users_suspended = load_users(\"users_suspended.txt\")\n",
    "# load users valid\n",
    "users_valids = load_users(\"users_valid.txt\")"
   ]
  },
  {
   "cell_type": "code",
   "execution_count": 6,
   "metadata": {},
   "outputs": [
    {
     "name": "stdout",
     "output_type": "stream",
     "text": [
      "Usuários Totais: 230233\n",
      "Usuários suspensos: 142971\n",
      "Usuários Validos: 87262\n"
     ]
    }
   ],
   "source": [
    "count_suspended = len(users_suspended)\n",
    "count_valid= len(users_valids)\n",
    "total_users = count_suspended + count_valid\n",
    "print(\"Usuários Totais:\",total_users)\n",
    "print(\"Usuários suspensos:\",count_suspended)\n",
    "print(\"Usuários Validos:\",count_valid)"
   ]
  },
  {
   "cell_type": "code",
   "execution_count": 7,
   "metadata": {},
   "outputs": [
    {
     "data": {
      "image/png": "[encoded data removed]",
      "text/plain": [
       "<Figure size 432x288 with 1 Axes>"
      ]
     },
     "metadata": {},
     "output_type": "display_data"
    }
   ],
   "source": [
    "# Pie chart, where the slices will be ordered and plotted counter-clockwise:\n",
    "labels = 'Usuários Suspensos','Usuários Validos'\n",
    "sizes = [count_suspended,count_valid]\n",
    "\n",
    "fig1, ax1 = plt.subplots()\n",
    "ax1.set_title(\"Análise Rede Política x Usuários Suspensos/Deletados\")\n",
    "ax1.pie(sizes,labels=labels, autopct='%1.1f%%',\n",
    "        shadow=True, startangle=90)\n",
    "ax1.axis('equal')  # Equal aspect ratio ensures that pie is drawn as a circle.\n",
    "fig1.savefig(\"analise_politica.png\")\n",
    "plt.show()"
   ]
  },
  {
   "cell_type": "code",
   "execution_count": 8,
   "metadata": {},
   "outputs": [
    {
     "data": {
      "image/png": "[encoded data removed]",
      "text/plain": [
       "<Figure size 432x288 with 1 Axes>"
      ]
     },
     "metadata": {
      "needs_background": "light"
     },
     "output_type": "display_data"
    }
   ],
   "source": [
    "# Pie chart, where the slices will be ordered and plotted counter-clockwise:\n",
    "labels = ['Suspensos','Validos']\n",
    "sizes = [count_suspended,count_valid]\n",
    "\n",
    "fig1, ax1 = plt.subplots()\n",
    "ax1.set_title(\"Análise Rede Política x Usuários Suspensos/Deletados\")\n",
    "ax1.bar(labels,sizes)\n",
    "#ax1.axis('equal')  # Equal aspect ratio ensures that pie is drawn as a circle.\n",
    "#fig1.savefig(\"analise_futebol.png\")\n",
    "plt.show()"
   ]
  },
  {
   "cell_type": "code",
   "execution_count": 9,
   "metadata": {},
   "outputs": [
    {
     "name": "stdout",
     "output_type": "stream",
     "text": [
      "Name: \n",
      "Type: DiGraph\n",
      "Number of nodes: 230233\n",
      "Number of edges: 451275\n",
      "Average in degree:   1.9601\n",
      "Average out degree:   1.9601\n"
     ]
    }
   ],
   "source": [
    "grafo = nx.read_edgelist(PATH_SOCCER+'/retweets_politica.edgelist',create_using=nx.DiGraph)\n",
    "print(nx.info(grafo))"
   ]
  },
  {
   "cell_type": "code",
   "execution_count": 10,
   "metadata": {},
   "outputs": [],
   "source": [
    "users_suspend_ids = [dicio_trad.get(user) for user in users_suspended if user in dicio_trad]"
   ]
  },
  {
   "cell_type": "code",
   "execution_count": 11,
   "metadata": {},
   "outputs": [
    {
     "name": "stdout",
     "output_type": "stream",
     "text": [
      "Name: \n",
      "Type: DiGraph\n",
      "Number of nodes: 87262\n",
      "Number of edges: 87285\n",
      "Average in degree:   1.0003\n",
      "Average out degree:   1.0003\n"
     ]
    }
   ],
   "source": [
    "novo_grafo = grafo.copy()\n",
    "novo_grafo.remove_nodes_from(users_suspend_ids)\n",
    "print(nx.info(novo_grafo))\n",
    "\n",
    "nx.write_edgelist(novo_grafo, \"retweets_politica_nao_suspenso.edgelist\",data=False)\n",
    "nx.write_gml(novo_grafo,\"retweets_politica_nao_suspenso.gml\")"
   ]
  },
  {
   "cell_type": "code",
   "execution_count": 12,
   "metadata": {},
   "outputs": [],
   "source": [
    "grafo_direct = nx.read_edgelist('retweets_politica_nao_suspenso.edgelist',create_using=nx.DiGraph)"
   ]
  },
  {
   "cell_type": "code",
   "execution_count": 13,
   "metadata": {},
   "outputs": [
    {
     "name": "stdout",
     "output_type": "stream",
     "text": [
      "Name: \n",
      "Type: DiGraph\n",
      "Number of nodes: 57683\n",
      "Number of edges: 87285\n",
      "Average in degree:   1.5132\n",
      "Average out degree:   1.5132\n"
     ]
    }
   ],
   "source": [
    "print(nx.info(grafo_direct))"
   ]
  }
 ],
 "metadata": {
  "kernelspec": {
   "display_name": "Python 3",
   "language": "python",
   "name": "python3"
  },
  "language_info": {
   "codemirror_mode": {
    "name": "ipython",
    "version": 3
   },
   "file_extension": ".py",
   "mimetype": "text/x-python",
   "name": "python",
   "nbconvert_exporter": "python",
   "pygments_lexer": "ipython3",
   "version": "3.6.9"
  }
 },
 "nbformat": 4,
 "nbformat_minor": 4
}
