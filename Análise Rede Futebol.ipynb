{
 "cells": [
  {
   "cell_type": "code",
   "execution_count": 39,
   "metadata": {},
   "outputs": [],
   "source": [
    "import pandas as pd\n",
    "import networkx as nx\n",
    "import matplotlib.pyplot as plt"
   ]
  },
  {
   "cell_type": "code",
   "execution_count": 18,
   "metadata": {},
   "outputs": [],
   "source": [
    "PATH_SOCCER = 'Rede Libertadores/'\n",
    "PATH_USERS_SUSPENDED = 'usuarios suspensos futebol/'"
   ]
  },
  {
   "cell_type": "code",
   "execution_count": 49,
   "metadata": {},
   "outputs": [],
   "source": [
    "# load tweets summary\n",
    "dicio_trad = {}\n",
    "with open(PATH_SOCCER+'/traducao_retweets_libertadores','r') as arq_reader:\n",
    "    for lines in arq_reader:\n",
    "        node_name,node_id = lines.strip().split(\":\")\n",
    "        dicio_trad[node_name] = node_id\n",
    "    \n",
    "#load tweets\n",
    "        "
   ]
  },
  {
   "cell_type": "code",
   "execution_count": 26,
   "metadata": {},
   "outputs": [],
   "source": [
    "# load users list\n",
    "def load_users(filename):\n",
    "    users_list = []\n",
    "    with open(PATH_USERS_SUSPENDED+filename,'r') as arq_reader:\n",
    "        users_list = [line.strip() for line in arq_reader]\n",
    "    return users_list"
   ]
  },
  {
   "cell_type": "code",
   "execution_count": 27,
   "metadata": {},
   "outputs": [],
   "source": [
    "# load users suspended\n",
    "users_suspended = load_users(\"users_suspended.txt\")\n",
    "# load users valid\n",
    "users_valids = load_users(\"users_valid.txt\")"
   ]
  },
  {
   "cell_type": "code",
   "execution_count": 36,
   "metadata": {},
   "outputs": [
    {
     "name": "stdout",
     "output_type": "stream",
     "text": [
      "Usuários Totais: 234318\n",
      "Usuários suspensos: 17764\n",
      "Usuários Validos: 216554\n"
     ]
    }
   ],
   "source": [
    "count_suspended = len(users_suspended)\n",
    "count_valid= len(users_valids)\n",
    "total_users = count_suspended + count_valid\n",
    "print(\"Usuários Totais:\",total_users)\n",
    "print(\"Usuários suspensos:\",count_suspended)\n",
    "print(\"Usuários Validos:\",count_valid)"
   ]
  },
  {
   "cell_type": "code",
   "execution_count": null,
   "metadata": {},
   "outputs": [],
   "source": []
  },
  {
   "cell_type": "code",
   "execution_count": 61,
   "metadata": {},
   "outputs": [
    {
     "data": {
      "image/png": "[encoded data removed]",
      "text/plain": [
       "<Figure size 432x288 with 1 Axes>"
      ]
     },
     "metadata": {},
     "output_type": "display_data"
    }
   ],
   "source": [
    "# Pie chart, where the slices will be ordered and plotted counter-clockwise:\n",
    "labels = 'Usuários Suspensos','Usuários Validos'\n",
    "sizes = [count_suspended,count_valid]\n",
    "\n",
    "fig1, ax1 = plt.subplots()\n",
    "ax1.set_title(\"Análise Rede Futebol x Usuários Suspensos/Deletados\")\n",
    "ax1.pie(sizes,labels=labels, autopct='%1.1f%%',\n",
    "        shadow=True, startangle=90)\n",
    "ax1.axis('equal')  # Equal aspect ratio ensures that pie is drawn as a circle.\n",
    "fig1.savefig(\"analise_futebol.png\")\n",
    "plt.show()"
   ]
  },
  {
   "cell_type": "code",
   "execution_count": 73,
   "metadata": {},
   "outputs": [
    {
     "data": {
      "image/png": "[encoded data removed]",
      "text/plain": [
       "<Figure size 432x288 with 1 Axes>"
      ]
     },
     "metadata": {
      "needs_background": "light"
     },
     "output_type": "display_data"
    }
   ],
   "source": [
    "# Pie chart, where the slices will be ordered and plotted counter-clockwise:\n",
    "labels = ['Suspensos','Validos']\n",
    "sizes = [count_suspended,count_valid]\n",
    "\n",
    "fig1, ax1 = plt.subplots()\n",
    "ax1.set_title(\"Análise Rede Futebol x Usuários Suspensos/Deletados\")\n",
    "ax1.bar(labels,sizes)\n",
    "#ax1.axis('equal')  # Equal aspect ratio ensures that pie is drawn as a circle.\n",
    "#fig1.savefig(\"analise_futebol.png\")\n",
    "plt.show()"
   ]
  },
  {
   "cell_type": "code",
   "execution_count": 67,
   "metadata": {},
   "outputs": [
    {
     "name": "stdout",
     "output_type": "stream",
     "text": [
      "Name: \n",
      "Type: Graph\n",
      "Number of nodes: 234318\n",
      "Number of edges: 374466\n",
      "Average degree:   3.1962\n",
      "Número Componentes 11252\n"
     ]
    }
   ],
   "source": [
    "grafo = nx.read_edgelist(PATH_SOCCER+'/retweets_libertadores.edgelist')\n",
    "print(nx.info(grafo))\n",
    "n_componentes_old = nx.number_connected_components(grafo)\n",
    "print(\"Número Componentes\", nx.number_connected_components(grafo))"
   ]
  },
  {
   "cell_type": "code",
   "execution_count": 56,
   "metadata": {},
   "outputs": [],
   "source": [
    "users_suspend_ids = [dicio_trad.get(user) for user in users_suspended if user in dicio_trad]"
   ]
  },
  {
   "cell_type": "code",
   "execution_count": 74,
   "metadata": {},
   "outputs": [
    {
     "name": "stdout",
     "output_type": "stream",
     "text": [
      "Name: \n",
      "Type: Graph\n",
      "Number of nodes: 216554\n",
      "Number of edges: 331623\n",
      "Average degree:   3.0627\n",
      "Número componentes antigo 11252\n",
      "Número componentes novo 17553\n"
     ]
    }
   ],
   "source": [
    "novo_grafo = grafo.copy()\n",
    "novo_grafo.remove_nodes_from(users_suspend_ids)\n",
    "print(nx.info(novo_grafo))\n",
    "n_componentes_new = nx.number_connected_components(novo_grafo)\n",
    "\n",
    "print(\"Número componentes antigo\",n_componentes_old)\n",
    "print(\"Número componentes novo\",n_componentes_new)\n",
    "# nx.write_edgelist(novo_grafo, \"retweets_libertadores_nao_suspenso.edgelist\",data=False)"
   ]
  }
 ],
 "metadata": {
  "kernelspec": {
   "display_name": "Python 3",
   "language": "python",
   "name": "python3"
  },
  "language_info": {
   "codemirror_mode": {
    "name": "ipython",
    "version": 3
   },
   "file_extension": ".py",
   "mimetype": "text/x-python",
   "name": "python",
   "nbconvert_exporter": "python",
   "pygments_lexer": "ipython3",
   "version": "3.6.9"
  }
 },
 "nbformat": 4,
 "nbformat_minor": 4
}
